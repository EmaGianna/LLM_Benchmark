{
  "cells": [
    {
      "cell_type": "code",
      "execution_count": null,
      "metadata": {
        "colab": {
          "base_uri": "https://localhost:8080/"
        },
        "id": "NlWUIt1i9XC-",
        "outputId": "2c0db2ba-1e6a-479d-af30-8132e9edb25b"
      },
      "outputs": [],
      "source": [
        "#from google.colab import drive\n",
        "#drive.mount('/content/drive')\n",
        "#path = \"/content/drive/MyDrive/Colab Notebooks/Seminario_Final/db\"\n",
        "#\n"
      ]
    },
    {
      "cell_type": "code",
      "execution_count": 1,
      "metadata": {
        "id": "6jzXTfFV-NpO",
        "metadata": {}
      },
      "outputs": [],
      "source": [
        "import pandas as pd\n",
        "import sqlite3"
      ]
    },
    {
      "cell_type": "code",
      "execution_count": 2,
      "metadata": {
        "id": "gVfK1R6b-Qdw",
        "metadata": {}
      },
      "outputs": [],
      "source": [
        "path = \"/mnt/e/trabajo/sysberisso/GIT_REPOS/LLM_Benchmark/prompts/db\"\n",
        "con = sqlite3.connect(f'{path}/prompt_sqlite.db')"
      ]
    },
    {
      "cell_type": "code",
      "execution_count": 3,
      "metadata": {
        "colab": {
          "base_uri": "https://localhost:8080/",
          "height": 89
        },
        "id": "yEQKOV27-XEj",
        "metadata": {},
        "outputId": "2d09a1e6-dc3b-46d6-ceb7-1292e42b60e3"
      },
      "outputs": [
        {
          "data": {
            "text/html": [
              "<div>\n",
              "<style scoped>\n",
              "    .dataframe tbody tr th:only-of-type {\n",
              "        vertical-align: middle;\n",
              "    }\n",
              "\n",
              "    .dataframe tbody tr th {\n",
              "        vertical-align: top;\n",
              "    }\n",
              "\n",
              "    .dataframe thead th {\n",
              "        text-align: right;\n",
              "    }\n",
              "</style>\n",
              "<table border=\"1\" class=\"dataframe\">\n",
              "  <thead>\n",
              "    <tr style=\"text-align: right;\">\n",
              "      <th></th>\n",
              "      <th>name</th>\n",
              "    </tr>\n",
              "  </thead>\n",
              "  <tbody>\n",
              "    <tr>\n",
              "      <th>0</th>\n",
              "      <td>gemma_7b_data1</td>\n",
              "    </tr>\n",
              "  </tbody>\n",
              "</table>\n",
              "</div>"
            ],
            "text/plain": [
              "             name\n",
              "0  gemma_7b_data1"
            ]
          },
          "execution_count": 3,
          "metadata": {},
          "output_type": "execute_result"
        }
      ],
      "source": [
        "df_view = pd.read_sql_query(\"SELECT name FROM sqlite_master where type='view' and name not like 'extra_%' limit 1\" , con)\n",
        "df_view"
      ]
    },
    {
      "cell_type": "code",
      "execution_count": 4,
      "metadata": {
        "colab": {
          "base_uri": "https://localhost:8080/",
          "height": 380
        },
        "id": "TKOWjH1g_Nbx",
        "metadata": {},
        "outputId": "45e48708-0c78-4a55-872a-4a39de63ec0c"
      },
      "outputs": [
        {
          "name": "stdout",
          "output_type": "stream",
          "text": [
            "gemma_7b_data1\n"
          ]
        },
        {
          "data": {
            "text/html": [
              "<div>\n",
              "<style scoped>\n",
              "    .dataframe tbody tr th:only-of-type {\n",
              "        vertical-align: middle;\n",
              "    }\n",
              "\n",
              "    .dataframe tbody tr th {\n",
              "        vertical-align: top;\n",
              "    }\n",
              "\n",
              "    .dataframe thead th {\n",
              "        text-align: right;\n",
              "    }\n",
              "</style>\n",
              "<table border=\"1\" class=\"dataframe\">\n",
              "  <thead>\n",
              "    <tr style=\"text-align: right;\">\n",
              "      <th></th>\n",
              "      <th>id_promtp</th>\n",
              "      <th>answers</th>\n",
              "    </tr>\n",
              "  </thead>\n",
              "  <tbody>\n",
              "    <tr>\n",
              "      <th>0</th>\n",
              "      <td>1</td>\n",
              "      <td>Claro, estoy aquí para ayudarte. ¿En qué puedo...</td>\n",
              "    </tr>\n",
              "    <tr>\n",
              "      <th>1</th>\n",
              "      <td>2</td>\n",
              "      <td>La capital de Francia es **París**.</td>\n",
              "    </tr>\n",
              "    <tr>\n",
              "      <th>2</th>\n",
              "      <td>3</td>\n",
              "      <td>¡Claro que sí! Argentina es un país increíble ...</td>\n",
              "    </tr>\n",
              "    <tr>\n",
              "      <th>3</th>\n",
              "      <td>4</td>\n",
              "      <td>## Inteligencia Artificial: La próxima generac...</td>\n",
              "    </tr>\n",
              "    <tr>\n",
              "      <th>4</th>\n",
              "      <td>5</td>\n",
              "      <td>\"Martian Chronicles\" by Ray Bradbury is a coll...</td>\n",
              "    </tr>\n",
              "    <tr>\n",
              "      <th>5</th>\n",
              "      <td>6</td>\n",
              "      <td>La sombra del poder se aleja,\\nel corazón del ...</td>\n",
              "    </tr>\n",
              "    <tr>\n",
              "      <th>6</th>\n",
              "      <td>7</td>\n",
              "      <td>**Título:** El peor día de la vida de Juan\\n\\n...</td>\n",
              "    </tr>\n",
              "    <tr>\n",
              "      <th>7</th>\n",
              "      <td>8</td>\n",
              "      <td>```python\\nprint(\"Hola, mundo!\")\\n```\\n\\nEste ...</td>\n",
              "    </tr>\n",
              "    <tr>\n",
              "      <th>8</th>\n",
              "      <td>9</td>\n",
              "      <td>No se ha proporcionado ningún conjunto de dato...</td>\n",
              "    </tr>\n",
              "    <tr>\n",
              "      <th>9</th>\n",
              "      <td>10</td>\n",
              "      <td>```python\\nfrom pyspark.sql.functions import m...</td>\n",
              "    </tr>\n",
              "  </tbody>\n",
              "</table>\n",
              "</div>"
            ],
            "text/plain": [
              "   id_promtp                                            answers\n",
              "0          1  Claro, estoy aquí para ayudarte. ¿En qué puedo...\n",
              "1          2                La capital de Francia es **París**.\n",
              "2          3  ¡Claro que sí! Argentina es un país increíble ...\n",
              "3          4  ## Inteligencia Artificial: La próxima generac...\n",
              "4          5  \"Martian Chronicles\" by Ray Bradbury is a coll...\n",
              "5          6  La sombra del poder se aleja,\\nel corazón del ...\n",
              "6          7  **Título:** El peor día de la vida de Juan\\n\\n...\n",
              "7          8  ```python\\nprint(\"Hola, mundo!\")\\n```\\n\\nEste ...\n",
              "8          9  No se ha proporcionado ningún conjunto de dato...\n",
              "9         10  ```python\\nfrom pyspark.sql.functions import m..."
            ]
          },
          "execution_count": 4,
          "metadata": {},
          "output_type": "execute_result"
        }
      ],
      "source": [
        "#for index, row in df_view.iterrows():\n",
        "#  print(f\"\\n#### {row['name']} ####\\n\")\n",
        "name_tbl = df_view.iloc[0]['name']\n",
        "print(name_tbl)\n",
        "sql_query = f\"SELECT id_promtp, answers FROM {name_tbl}\" #f\"SELECT id_promtp, answers FROM {row['name']}\"\n",
        "df_prompts = pd.read_sql_query(sql_query, con)\n",
        "\n",
        "df_prompts"
      ]
    },
    {
      "cell_type": "markdown",
      "metadata": {
        "id": "7574zj3rALDy"
      },
      "source": [
        "# **Calculos Estadisticas**\n",
        "Aca van a empezar los calculos de las estadisticas de lectura y NLP(PLN)\n",
        "\n",
        "Vamos a utilizar las librerias\n",
        "\n",
        "* [textstat](https://github.com/textstat/textstat)  : https://pypi.org/project/textstat/  \n",
        "  * uso: https://www.kaggle.com/code/yhirakawa/textstat-how-to-evaluate-readability\n",
        "         https://textstat.org/\n",
        "         \n",
        "\n",
        "* [textblob](https://textblob.readthedocs.io/en/dev/) : https://pypi.org/project/textblob/  \n",
        "    * uso: https://pypi.org/project/textblob/  \n",
        "           https://colab.research.google.com/github/vitojph/kschool-nlp-18/blob/master/notebooks/textblob.ipynb  \n",
        "           https://textblob.readthedocs.io/en/dev/  \n",
        "           https://notebook.community/vitojph/kschool-nlp/notebooks-py2/textblob  \n",
        "           \n",
        "\n",
        "* [vader](https://github.com/brunneis/vader-multi): https://unipython.com/analisis-de-sentimientos-con-textblob-y-vader/\n",
        "\n",
        "\n",
        "https://pybonacci.org/2015/11/24/como-hacer-analisis-de-sentimiento-en-espanol-2/\n",
        "https://pypi.org/project/langdetect/\n",
        "\n",
        "           \n",
        "\n",
        "\n"
      ]
    },
    {
      "cell_type": "code",
      "execution_count": 5,
      "metadata": {
        "id": "VNPdMqhOC6S1",
        "metadata": {}
      },
      "outputs": [],
      "source": [
        "%%capture\n",
        "!pip install textstat textblob"
      ]
    },
    {
      "cell_type": "code",
      "execution_count": 2,
      "metadata": {
        "id": "oIChpEBzC12_",
        "metadata": {}
      },
      "outputs": [],
      "source": [
        "import textstat"
      ]
    },
    {
      "cell_type": "code",
      "execution_count": 3,
      "metadata": {},
      "outputs": [
        {
          "data": {
            "text/plain": [
              "['__builtins__',\n",
              " '__cached__',\n",
              " '__doc__',\n",
              " '__file__',\n",
              " '__loader__',\n",
              " '__name__',\n",
              " '__package__',\n",
              " '__path__',\n",
              " '__spec__',\n",
              " '__version__',\n",
              " 'attribute',\n",
              " 'automated_readability_index',\n",
              " 'avg_character_per_word',\n",
              " 'avg_letter_per_word',\n",
              " 'avg_sentence_length',\n",
              " 'avg_sentence_per_word',\n",
              " 'avg_syllables_per_word',\n",
              " 'char_count',\n",
              " 'coleman_liau_index',\n",
              " 'count_arabic_long_words',\n",
              " 'count_arabic_syllables',\n",
              " 'count_complex_arabic_words',\n",
              " 'count_faseeh',\n",
              " 'crawford',\n",
              " 'dale_chall_readability_score',\n",
              " 'dale_chall_readability_score_v2',\n",
              " 'difficult_words',\n",
              " 'difficult_words_list',\n",
              " 'fernandez_huerta',\n",
              " 'flesch_kincaid_grade',\n",
              " 'flesch_reading_ease',\n",
              " 'gulpease_index',\n",
              " 'gunning_fog',\n",
              " 'gutierrez_polini',\n",
              " 'is_difficult_word',\n",
              " 'is_easy_word',\n",
              " 'letter_count',\n",
              " 'lexicon_count',\n",
              " 'linsear_write_formula',\n",
              " 'lix',\n",
              " 'long_word_count',\n",
              " 'mcalpine_eflaw',\n",
              " 'miniword_count',\n",
              " 'monosyllabcount',\n",
              " 'osman',\n",
              " 'polysyllabcount',\n",
              " 'pyphen',\n",
              " 'reading_time',\n",
              " 'remove_punctuation',\n",
              " 'rix',\n",
              " 'sentence_count',\n",
              " 'set_lang',\n",
              " 'set_rm_apostrophe',\n",
              " 'set_rounding',\n",
              " 'smog_index',\n",
              " 'spache_readability',\n",
              " 'syllable_count',\n",
              " 'szigriszt_pazos',\n",
              " 'text_standard',\n",
              " 'textstat',\n",
              " 'wiener_sachtextformel',\n",
              " 'words_per_sentence']"
            ]
          },
          "execution_count": 3,
          "metadata": {},
          "output_type": "execute_result"
        }
      ],
      "source": [
        "dir(textstat)"
      ]
    },
    {
      "cell_type": "markdown",
      "metadata": {},
      "source": [
        "\n",
        "[Markdown Guide](https://www.markdownguide.org \"The best Markdown reference guide\")\n",
        "\n",
        "[textstat](https://github.com/textstat/textstat)"
      ]
    },
    {
      "cell_type": "code",
      "execution_count": 16,
      "metadata": {
        "colab": {
          "base_uri": "https://localhost:8080/",
          "height": 363
        },
        "id": "UD8K3C4qAZ2v",
        "metadata": {},
        "outputId": "7710f72a-fe2f-48fb-b913-2ba2069c4ac6"
      },
      "outputs": [
        {
          "data": {
            "text/html": [
              "<div>\n",
              "<style scoped>\n",
              "    .dataframe tbody tr th:only-of-type {\n",
              "        vertical-align: middle;\n",
              "    }\n",
              "\n",
              "    .dataframe tbody tr th {\n",
              "        vertical-align: top;\n",
              "    }\n",
              "\n",
              "    .dataframe thead th {\n",
              "        text-align: right;\n",
              "    }\n",
              "</style>\n",
              "<table border=\"1\" class=\"dataframe\">\n",
              "  <thead>\n",
              "    <tr style=\"text-align: right;\">\n",
              "      <th></th>\n",
              "      <th>id_promtp</th>\n",
              "      <th>answers</th>\n",
              "      <th>reading_time</th>\n",
              "      <th>flesch_reading_ease</th>\n",
              "    </tr>\n",
              "  </thead>\n",
              "  <tbody>\n",
              "    <tr>\n",
              "      <th>0</th>\n",
              "      <td>1</td>\n",
              "      <td>Claro, estoy aquí para ayudarte. ¿En qué puedo...</td>\n",
              "      <td>0.75</td>\n",
              "      <td>91.78</td>\n",
              "    </tr>\n",
              "    <tr>\n",
              "      <th>1</th>\n",
              "      <td>2</td>\n",
              "      <td>La capital de Francia es **París**.</td>\n",
              "      <td>0.44</td>\n",
              "      <td>73.85</td>\n",
              "    </tr>\n",
              "    <tr>\n",
              "      <th>2</th>\n",
              "      <td>3</td>\n",
              "      <td>¡Claro que sí! Argentina es un país increíble ...</td>\n",
              "      <td>22.59</td>\n",
              "      <td>56.45</td>\n",
              "    </tr>\n",
              "    <tr>\n",
              "      <th>3</th>\n",
              "      <td>4</td>\n",
              "      <td>## Inteligencia Artificial: La próxima generac...</td>\n",
              "      <td>21.37</td>\n",
              "      <td>40.45</td>\n",
              "    </tr>\n",
              "    <tr>\n",
              "      <th>4</th>\n",
              "      <td>5</td>\n",
              "      <td>\"Martian Chronicles\" by Ray Bradbury is a coll...</td>\n",
              "      <td>7.51</td>\n",
              "      <td>40.38</td>\n",
              "    </tr>\n",
              "    <tr>\n",
              "      <th>5</th>\n",
              "      <td>6</td>\n",
              "      <td>La sombra del poder se aleja,\\nel corazón del ...</td>\n",
              "      <td>11.30</td>\n",
              "      <td>66.03</td>\n",
              "    </tr>\n",
              "    <tr>\n",
              "      <th>6</th>\n",
              "      <td>7</td>\n",
              "      <td>**Título:** El peor día de la vida de Juan\\n\\n...</td>\n",
              "      <td>20.76</td>\n",
              "      <td>69.99</td>\n",
              "    </tr>\n",
              "    <tr>\n",
              "      <th>7</th>\n",
              "      <td>8</td>\n",
              "      <td>```python\\nprint(\"Hola, mundo!\")\\n```\\n\\nEste ...</td>\n",
              "      <td>2.41</td>\n",
              "      <td>65.39</td>\n",
              "    </tr>\n",
              "    <tr>\n",
              "      <th>8</th>\n",
              "      <td>9</td>\n",
              "      <td>No se ha proporcionado ningún conjunto de dato...</td>\n",
              "      <td>2.78</td>\n",
              "      <td>58.58</td>\n",
              "    </tr>\n",
              "    <tr>\n",
              "      <th>9</th>\n",
              "      <td>10</td>\n",
              "      <td>```python\\nfrom pyspark.sql.functions import m...</td>\n",
              "      <td>11.78</td>\n",
              "      <td>42.07</td>\n",
              "    </tr>\n",
              "  </tbody>\n",
              "</table>\n",
              "</div>"
            ],
            "text/plain": [
              "   id_promtp                                            answers  reading_time  \\\n",
              "0          1  Claro, estoy aquí para ayudarte. ¿En qué puedo...          0.75   \n",
              "1          2                La capital de Francia es **París**.          0.44   \n",
              "2          3  ¡Claro que sí! Argentina es un país increíble ...         22.59   \n",
              "3          4  ## Inteligencia Artificial: La próxima generac...         21.37   \n",
              "4          5  \"Martian Chronicles\" by Ray Bradbury is a coll...          7.51   \n",
              "5          6  La sombra del poder se aleja,\\nel corazón del ...         11.30   \n",
              "6          7  **Título:** El peor día de la vida de Juan\\n\\n...         20.76   \n",
              "7          8  ```python\\nprint(\"Hola, mundo!\")\\n```\\n\\nEste ...          2.41   \n",
              "8          9  No se ha proporcionado ningún conjunto de dato...          2.78   \n",
              "9         10  ```python\\nfrom pyspark.sql.functions import m...         11.78   \n",
              "\n",
              "   flesch_reading_ease  \n",
              "0                91.78  \n",
              "1                73.85  \n",
              "2                56.45  \n",
              "3                40.45  \n",
              "4                40.38  \n",
              "5                66.03  \n",
              "6                69.99  \n",
              "7                65.39  \n",
              "8                58.58  \n",
              "9                42.07  "
            ]
          },
          "execution_count": 16,
          "metadata": {},
          "output_type": "execute_result"
        }
      ],
      "source": [
        "df_prompts['reading_time']=df_prompts['answers'].apply(lambda x: textstat.reading_time(x))\n",
        "df_prompts['flesch_reading_ease']=df_prompts['answers'].apply(lambda x: textstat.flesch_reading_ease(x))\n",
        "\n",
        "df_prompts\n"
      ]
    },
    {
      "cell_type": "code",
      "execution_count": 29,
      "metadata": {
        "metadata": {}
      },
      "outputs": [
        {
          "data": {
            "text/plain": [
              "Sentiment(polarity=1.0, subjectivity=0.75)"
            ]
          },
          "execution_count": 29,
          "metadata": {},
          "output_type": "execute_result"
        }
      ],
      "source": [
        "from textblob import TextBlob\n",
        "\n",
        "text = \"your products are great!\"\n",
        "blob = TextBlob(text)\n",
        "blob.sentiment\n",
        "#sentiment_polarity = blob.sentiment.polarity\n",
        "#sentimiento_subjetividad = blob.sentiment.subjetividad\n",
        "#print(f\"Polaridad del sentimiento: {polaridad_del_sentimiento}\")\n",
        "#print(f\"Subjetividad del sentimiento: {sentiment_subjectivity}\")"
      ]
    },
    {
      "cell_type": "code",
      "execution_count": 31,
      "metadata": {
        "metadata": {}
      },
      "outputs": [
        {
          "data": {
            "text/plain": [
              "{'neg': 0.0, 'neu': 0.27, 'pos': 0.73, 'compound': 0.9387}"
            ]
          },
          "execution_count": 31,
          "metadata": {},
          "output_type": "execute_result"
        }
      ],
      "source": [
        "from vaderSentiment.vaderSentiment import SentimentIntensityAnalyzer\n",
        "\n",
        "analyzer = SentimentIntensityAnalyzer()\n",
        "\n",
        "#analyzer.polarity_scores(\"VADER is VERY SMART, handsome, and FUNNY!!!\")\n",
        "#{'neg': 0.0, 'neu': 0.233, 'pos': 0.767, 'compound': 0.9342}\n",
        "\n",
        "analyzer.polarity_scores(\"¡¡¡VADER es MUY INTELIGENTE, guapo y DIVERTIDO!!!\")\n",
        "{'neg': 0.0, 'neu': 0.27, 'pos': 0.73, 'compound': 0.9387}\n",
        "\n",
        "#analyzer.polarity_scores(\"VADER è MOLTO INTELLIGENTE, bello e DIVERTENTE!!!\")\n",
        "#{'neg': 0.0, 'neu': 0.256, 'pos': 0.744, 'compound': 0.9481}\n",
        "#\n",
        "#analyzer.polarity_scores(\"VADER est TRÈS SMART, beau et drôle!!!\")\n",
        "#{'neg': 0.0, 'neu': 0.276, 'pos': 0.724, 'compound': 0.9338}\n",
        "#\n",
        "#analyzer.polarity_scores(\"Вейдер очень умный, красивый и смешной!!!\")\n",
        "#{'neg': 0.0, 'neu': 0.314, 'pos': 0.686, 'compound': 0.8989}\n",
        "#\n",
        "#analyzer.polarity_scores(\"ベイダーは非常にスマートで、ハンサムで面白いです!!!\")\n",
        "#{'neg': 0.0, 'neu': 0.328, 'pos': 0.672, 'compound': 0.882}\n",
        "#\n",
        "#analyzer.polarity_scores(\"வேடர் மிகவும் ஸ்மார்ட், அழகான மற்றும் வேடிக்கையானது!!!\")\n",
        "#{'neg': 0.0, 'neu': 0.314, 'pos': 0.686, 'compound': 0.8989}"
      ]
    },
    {
      "cell_type": "code",
      "execution_count": 33,
      "metadata": {
        "metadata": {}
      },
      "outputs": [
        {
          "data": {
            "text/plain": [
              "0    {'neg': 0.0, 'neu': 0.539, 'pos': 0.461, 'comp...\n",
              "1    {'neg': 0.0, 'neu': 1.0, 'pos': 0.0, 'compound...\n",
              "2    {'neg': 0.0, 'neu': 0.826, 'pos': 0.174, 'comp...\n",
              "3    {'neg': 0.039, 'neu': 0.752, 'pos': 0.209, 'co...\n",
              "4    {'neg': 0.0, 'neu': 0.898, 'pos': 0.102, 'comp...\n",
              "5    {'neg': 0.024, 'neu': 0.668, 'pos': 0.308, 'co...\n",
              "6    {'neg': 0.089, 'neu': 0.788, 'pos': 0.123, 'co...\n",
              "7    {'neg': 0.0, 'neu': 1.0, 'pos': 0.0, 'compound...\n",
              "8    {'neg': 0.061, 'neu': 0.838, 'pos': 0.101, 'co...\n",
              "9    {'neg': 0.0, 'neu': 0.911, 'pos': 0.089, 'comp...\n",
              "Name: test, dtype: object"
            ]
          },
          "execution_count": 33,
          "metadata": {},
          "output_type": "execute_result"
        }
      ],
      "source": [
        "df_prompts['test']=df_prompts['answers'].apply(lambda x: analyzer.polarity_scores(x))\n",
        "\n",
        "df_prompts['test']"
      ]
    }
  ],
  "metadata": {
    "colab": {
      "provenance": []
    },
    "kernelspec": {
      "display_name": "Python 3",
      "name": "python3"
    },
    "language_info": {
      "codemirror_mode": {
        "name": "ipython",
        "version": 3
      },
      "file_extension": ".py",
      "mimetype": "text/x-python",
      "name": "python",
      "nbconvert_exporter": "python",
      "pygments_lexer": "ipython3",
      "version": "3.8.10"
    }
  },
  "nbformat": 4,
  "nbformat_minor": 0
}
