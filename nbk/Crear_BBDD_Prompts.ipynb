{
  "cells": [
    {
      "cell_type": "markdown",
      "metadata": {
        "id": "q6Utdz90EFYl"
      },
      "source": [
        "# **SQLITE**"
      ]
    },
    {
      "cell_type": "code",
      "execution_count": 2,
      "metadata": {
        "id": "ifhbmhBoEJBB",
        "metadata": {}
      },
      "outputs": [],
      "source": [
        "import pandas as pd\n",
        "import sqlite3"
      ]
    },
    {
      "cell_type": "code",
      "execution_count": 4,
      "metadata": {
        "id": "5_CtCUsbESfg",
        "metadata": {}
      },
      "outputs": [],
      "source": [
        "# con = sqlite3.connect('your_local_path')\n",
        "con = sqlite3.connect(':memory:')"
      ]
    },
    {
      "cell_type": "code",
      "execution_count": 6,
      "metadata": {
        "colab": {
          "base_uri": "https://localhost:8080/"
        },
        "id": "yoC3iAtvEiSX",
        "metadata": {},
        "outputId": "2d987d63-83de-4f6f-bbd5-14612c098d22"
      },
      "outputs": [
        {
          "name": "stdout",
          "output_type": "stream",
          "text": [
            "set_1.csv\n",
            "   id_promtp complejidad                                             prompt\n",
            "0          1        Baja             Buenos días, ¿cómo puedo ayudarte hoy?\n",
            "1          2        Baja                    ¿Cuál es la capital de Francia?\n",
            "2          3       Media  Estoy planeando un viaje a París. ¿Podrías rec...\n",
            "3          4       Media  Por favor, resúmeme este artículo sobre la int...\n",
            "4          5       Media          Traduce este texto del español al inglés.\n",
            "5          6       Media                    Escribe un poema sobre el amor.\n",
            "6          7       Media  Escribe un guión para un cortometraje de comedia.\n",
            "7          8        Alta  Escribe un código en Python que imprima \"Hola,...\n",
            "8          9        Alta  Utiliza Pandas para analizar este conjunto de ...\n",
            "9         10        Alta  Crea una función en PySpark que calcule la med...\n",
            "set_2.csv\n",
            "   id_promtp complejidad                                             prompt\n",
            "0          1        Bajo             Buenos días, ¿cómo puedo ayudarte hoy?\n",
            "1          2        Bajo                    ¿Cuál es la capital de Francia?\n",
            "2          3       Medio  Estoy planeando un viaje a París. ¿Podrías rec...\n",
            "3          4       Medio  Por favor, resúmeme este artículo sobre la int...\n",
            "4          5       Medio          Traduce este texto del español al inglés.\n",
            "5          6        Alto                    Escribe un poema sobre el amor.\n",
            "6          7        Alto  Escribe un guión para un cortometraje de comedia.\n",
            "7          8       Medio  Escribe un código en Python que imprima \"Hola,...\n",
            "8          9        Alto  Utiliza Pandas para analizar este conjunto de ...\n",
            "9         10    Muy Alto  Crea una función en PySpark que calcule la med...\n",
            "set_3.csv\n",
            "   id_promtp complejidad                                             prompt\n",
            "0          1        Bajo             Buenos días, ¿cómo puedo ayudarte hoy?\n",
            "1          2        Bajo                    ¿Cuál es la capital de Francia?\n",
            "2          3       Medio  Estoy planeando un viaje a París. ¿Podrías rec...\n",
            "3          4       Medio  Por favor, resúmeme este artículo sobre la int...\n",
            "4          5       Medio          Traduce este texto del español al inglés.\n",
            "5          6        Alto                    Escribe un poema sobre el amor.\n",
            "6          7        Alto  Escribe un guión para un cortometraje de comedia.\n",
            "7          8       Medio  Escribe un código en Python que imprima \"Hola,...\n",
            "8          9        Alto  Utiliza Pandas para analizar este conjunto de ...\n",
            "9         10        Alto  Crea una función en PySpark que calcule la med...\n",
            "set_Extra_Muy_Alto.csv\n",
            "   id_promtp complejidad                                             prompt\n",
            "0         11        Alto  Escribe un programa en Python que juegue al aj...\n"
          ]
        }
      ],
      "source": [
        "import os\n",
        "\n",
        "\n",
        "def create_db_from_csv_prompts(path_dir):\n",
        "    \"\"\"\n",
        "    The function `create_db_from_csv_prompts` reads CSV files from a directory, creates a DataFrame for\n",
        "    each file, and stores the data in a SQLite database using the table name derived from the file name.\n",
        "    \n",
        "    :param path_dir: The `path_dir` parameter in the `create_db_from_csv_prompts` function is the\n",
        "    directory path where the CSV files are located. This function reads each CSV file in the specified\n",
        "    directory, creates a DataFrame from the data in the CSV file, and then stores the data in a SQLite\n",
        "    database table\n",
        "    \"\"\"\n",
        "    files = os.listdir(path_dir)\n",
        "    for file in files:\n",
        "      if '.csv' in file:\n",
        "        print(file)\n",
        "        tbl_name = file.split('.')[0]\n",
        "        df = pd.read_csv(os.path.join(path_dir, file), sep=';')\n",
        "        print(df)\n",
        "        df.to_sql(tbl_name, con, if_exists='replace', index=False)\n",
        "\n",
        "\n",
        "create_db_from_csv_prompts('/mnt/e/trabajo/sysberisso/GIT_REPOS/LLM_Benchmark/prompts/csv')\n"
      ]
    }
  ],
  "metadata": {
    "colab": {
      "provenance": []
    },
    "kernelspec": {
      "display_name": "Python 3",
      "name": "python3"
    },
    "language_info": {
      "codemirror_mode": {
        "name": "ipython",
        "version": 3
      },
      "file_extension": ".py",
      "mimetype": "text/x-python",
      "name": "python",
      "nbconvert_exporter": "python",
      "pygments_lexer": "ipython3",
      "version": "3.8.10"
    }
  },
  "nbformat": 4,
  "nbformat_minor": 0
}
